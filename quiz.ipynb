{
 "cells": [
  {
   "cell_type": "code",
   "execution_count": null,
   "id": "116a4624",
   "metadata": {},
   "outputs": [
    {
     "name": "stdout",
     "output_type": "stream",
     "text": [
      "welcome to the quiz game!\n",
      "lets play!\n"
     ]
    }
   ],
   "source": [
    "print(\"welcome to the quiz game!\")\n",
    "print(\"lets play!\")\n",
    "score=0    \n",
    "\n",
    "ans=input(\"1. Which one of the following is the correct extension of the Python file?  a) .py  b).python  c).p  d)none of these  ans) \")\n",
    "if ans.lower()=='.py':\n",
    "    print(\"correct!\")\n",
    "    score+=1\n",
    "else:\n",
    "    print(\"Incorrect! \")\n",
    "    \n",
    "ans=input(\"2. How is a code block indicated in Python?  a)brackets  b)Intendation  c)Key  d)none  ans) \")\n",
    "if ans.lower()=='intendation':\n",
    "    print(\"correct!\")\n",
    "    score+=1\n",
    "else:\n",
    "    print(\"Incorrect! \")\n",
    "    \n",
    "ans=input(\"3. Which of the following types of loops are not supported in Python?  a)for  b)while  c)do while  d)none  ans) \")\n",
    "if ans.lower()=='do while':\n",
    "    print(\"correct!\")\n",
    "    score+=1\n",
    "else:\n",
    "    print(\"Incorrect! \")\n",
    "    \n",
    "ans=input(\"4. Which collection is ordered, changeable, and allows duplicate members in python?  a)list  b)set  c)dictionary  d)tuple  ans) \")\n",
    "if ans.lower()=='list':\n",
    "    print(\"correct!\")\n",
    "    score+=1\n",
    "else:\n",
    "    print(\"Incorrect! \")\n",
    " \n",
    "ans=input(\"5. Which keyword is used for function in Python language? a)Function  b)def  c)Fun  d)Define  ans) \")\n",
    "if ans.lower()=='def':\n",
    "    print(\"correct!\")\n",
    "    score+=1\n",
    "else:\n",
    "    print(\"Incorrect! \")\n",
    "    \n",
    "\n",
    "print(\"You got {} questions correct\".format(score))\n",
    "print(\"You scored \" + str((score/5)*100) + \"%\")"
   ]
  },
  {
   "cell_type": "code",
   "execution_count": null,
   "id": "193ad6a9",
   "metadata": {},
   "outputs": [],
   "source": []
  }
 ],
 "metadata": {
  "kernelspec": {
   "display_name": "Python 3 (ipykernel)",
   "language": "python",
   "name": "python3"
  },
  "language_info": {
   "codemirror_mode": {
    "name": "ipython",
    "version": 3
   },
   "file_extension": ".py",
   "mimetype": "text/x-python",
   "name": "python",
   "nbconvert_exporter": "python",
   "pygments_lexer": "ipython3",
   "version": "3.11.5"
  }
 },
 "nbformat": 4,
 "nbformat_minor": 5
}
